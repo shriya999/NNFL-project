{
 "cells": [
  {
   "cell_type": "code",
   "execution_count": 1,
   "metadata": {},
   "outputs": [],
   "source": [
    "\"\"\"\n",
    "The dependencies required for the program to run include\n",
    "1.Numpy - Performing Mathematical Calculations\n",
    "2.MatPlotLib - Library for Ploting Graphs\n",
    "3.Pandas - For handling the data. Pandas provide many read-made features for reading csv, and handling data as a DataFrame object \n",
    "4.Seaborn\n",
    "5.Random\n",
    "6.Math\n",
    "7.Sklearn\n",
    "\"\"\"\n",
    "import numpy as np\n",
    "import matplotlib.pyplot as plt\n",
    "import pandas as pd\n",
    "\n",
    "import seaborn as sns\n",
    "import random\n",
    "from math import sqrt\n",
    "\n",
    "%matplotlib inline\n",
    "\n",
    "from sklearn.model_selection import train_test_split\n",
    "from sklearn.preprocessing import MinMaxScaler\n",
    "\n",
    "np.random.seed(1)"
   ]
  },
  {
   "cell_type": "markdown",
   "metadata": {},
   "source": [
    "# Initializing the Parameters for our Network"
   ]
  },
  {
   "cell_type": "markdown",
   "metadata": {},
   "source": [
    "Initializer for an L-layer Neural Network.\n",
    "- The function `parameter_initialization` is a helper function which takes in input a list(dimensions) which contain information about the Layer (both hidden ,input and output layer included) and returns a params dictionary with the requisite size of the params in the given layer using a randomizer function\n",
    "- Additionally assert is used to make sure that the given parameter matrix matches in size with the dimensions dictionary\n",
    "- Each layer in the parameter dictionary is represented as Wn and bn where n indicates the nth layer of the network"
   ]
  },
  {
   "cell_type": "code",
   "execution_count": 2,
   "metadata": {},
   "outputs": [],
   "source": [
    "def parameter_initialization(dimensions):\n",
    "    \n",
    "    np.random.seed(4)\n",
    "    #Initializing the Parameters Dictionary\n",
    "    params = {}\n",
    "    #L is used to store the length of the total layers in the network\n",
    "    L = len(dimensions)            \n",
    "    #Next we iterate through each layer of the network , filling in the parameter of the network\n",
    "    for l in range(1, L):\n",
    "        #np.random.randn(x,y) creates a random array of size x,y drawn from normal distribution\n",
    "        #We further multiply this matrix with a value of 0.01 to keep the values of the Weights small in the initial iterations of the network\n",
    "        params['W' + str(l)] = np.random.randn(dimensions[l], dimensions[l-1])*0.01\n",
    "        params['b' + str(l)] = np.zeros((dimensions[l],1))\n",
    "        \n",
    "    return params"
   ]
  },
  {
   "cell_type": "markdown",
   "metadata": {},
   "source": [
    "# Forward Propagation"
   ]
  },
  {
   "cell_type": "markdown",
   "metadata": {},
   "source": [
    "With the params in place ,we now perform forward propagation . \n",
    "\n",
    "First we start of by defining `forward_prop_lin` module which computes the following equations:\n",
    "\n",
    "$$Z^{[l]} = W^{[l]}A^{[l-1]} +b^{[l]}$$\n",
    "\n",
    "Next we code `sigmoid` function which performs the $\\sigma(Z) = \\sigma(W A + b) = \\frac{1}{ 1 + e^{-(W A + b)}}$. operation on the individual elements of the matrix Z.\n",
    "\n",
    "Also for comparitive purpose we also code `relu` function doing $A = RELU(Z) = max(0, Z)$ . In the later sections of the notebook we ran the code using both relu and sigmoid and have drawn a comparitive study of both the methods"
   ]
  },
  {
   "cell_type": "code",
   "execution_count": 3,
   "metadata": {},
   "outputs": [],
   "source": [
    "def forward_prop_lin(A, W, b):\n",
    "    #Z is the input of the activation function which is calculated from the given formula\n",
    "    Z = np.dot(W,A) + b\n",
    "    #temp_backprop is a python dictionary , which will be required later in the backward pass\n",
    "    temp_backprop= (A, W, b)\n",
    "    \n",
    "    return Z,temp_backprop"
   ]
  },
  {
   "cell_type": "code",
   "execution_count": 4,
   "metadata": {},
   "outputs": [],
   "source": [
    "def sigmoid(Z):\n",
    "    #Using Sigmoid Activator , the function has been described in detail in the markdown\n",
    "    A = 1/(1+np.exp(-Z))\n",
    "    temp_backprop= Z\n",
    "    return A,temp_backprop"
   ]
  },
  {
   "cell_type": "code",
   "execution_count": 5,
   "metadata": {},
   "outputs": [],
   "source": [
    "def relu(Z):\n",
    "    #Using Relu Activator, the function has been described in detail in the markdown\n",
    "    A = np.maximum(0,Z)\n",
    "    temp_backprop= Z \n",
    "    return A,temp_backprop"
   ]
  },
  {
   "cell_type": "markdown",
   "metadata": {},
   "source": [
    "Now with the linear forward model in place, we next code up the two helper functions `forward_prop_activation` and `forward_prop_full`.\n",
    "\n",
    "- `forward_prop_activation` takes in input Activations of the previous layer, Weights and bias and applies the requisite activation function i.e sigmoid or relu activator and returns the Activation for the next layer. Also in the process we store thelist_tempbecause they'd be required for future back propagations\n",
    "\n",
    "- `forward_prop_full` this is the main function , this function sums up the entire forward pass for a training example in the dataset taking in X and params for the entire network"
   ]
  },
  {
   "cell_type": "code",
   "execution_count": 6,
   "metadata": {},
   "outputs": [],
   "source": [
    "def forward_prop_activation(A_prev, W, b, activation):\n",
    "    #There are two choice of activations in this code namely sigmoid and relu\n",
    "    if activation == \"sigmoid\":\n",
    "        #If sigmoid is selected we first apply forward_prop_lin to find the pre-activation parameter Z and then apply the sigmoid activator\n",
    "        Z, linear_temp = forward_prop_lin(A_prev, W, b)\n",
    "        A, activation_temp = sigmoid(Z)\n",
    "    \n",
    "    elif activation == \"relu\":\n",
    "        #If relu is selected we first apply forward_prop_lin to find the pre-activation parameter Z and then apply the relu activator\n",
    "        Z, linear_temp = forward_prop_lin(A_prev, W, b)\n",
    "        A, activation_temp = relu(Z)\n",
    "\n",
    "    temp_backprop= (linear_temp, activation_temp)\n",
    "    #Finally we return the new Activation Parameter for the next layer alongside thelist_tempfor propagation\n",
    "    return A,temp_backprop"
   ]
  },
  {
   "cell_type": "code",
   "execution_count": 7,
   "metadata": {},
   "outputs": [],
   "source": [
    "def forward_prop_full(X, params):\n",
    "    #list_temp for the history of Activations\n",
    "    list_temp= []\n",
    "    #Activation A[0] is X in the Base Case\n",
    "    A = X\n",
    "    #Since params has 2 params for each Layers . Length of Parameter // 2  returns the Length of the Layer\n",
    "    L = len(params) // 2           \n",
    "    \n",
    "    #Iterating through the individual layers applying Relu Activators for L-1 Layers\n",
    "    for l in range(1, L):\n",
    "        #A prev = A[L-1]\n",
    "        A_prev = A \n",
    "        #Here activations of the individual layers are propagated in the iterative fasion using relu activators with the params as specified in the params dictionary\n",
    "        A,temp_backprop= forward_prop_activation(A_prev, params['W' + str(l)], params['b' + str(l)], \"sigmoid\")\n",
    "        list_temp.append(temp_backprop)\n",
    "        \n",
    "    #The last layer of the network is a sigmoid activator   \n",
    "    AL,temp_backprop= forward_prop_activation(A, params['W' + str(L)], params['b' + str(L)], \"relu\")\n",
    "    list_temp.append(temp_backprop)\n",
    "    #Finally we return the Last Level of Activation alongside the list_temp\n",
    "            \n",
    "    return AL, list_temp"
   ]
  },
  {
   "cell_type": "markdown",
   "metadata": {},
   "source": [
    "# Cost Function\n",
    "\n",
    "Before Coding up BackPropagation we need to define some Cost Function to check if your model is actually learning  for this purpose we compute the cross-entropy cost $J$, using the following formula: $$-\\frac{1}{m} \\sum\\limits_{i = 1}^{m} (y^{(i)}\\log\\left(a^{[L] (i)}\\right) + (1-y^{(i)})\\log\\left(1- a^{[L](i)}\\right)) \\tag{7}$$"
   ]
  },
  {
   "cell_type": "code",
   "execution_count": 8,
   "metadata": {},
   "outputs": [],
   "source": [
    "def cost_function(AL, Y):\n",
    "    #Y.shape[1] returns the no of training example\n",
    "    m = Y.shape[1]\n",
    "    #np.multiply is used for the element wise multiplication of the vector\n",
    "    #longprobs vector is ensured that it has the same shape as Y as we have done element wise multiplication\n",
    "    mul_temp = np.multiply(np.log(AL),Y) + np.multiply(np.log(1-AL),1-Y)\n",
    "    #The cost across various examples are summed up to a single cost value\n",
    "    cost = (-1/m)*np.sum(mul_temp, axis = 1)\n",
    "    cost = np.squeeze(cost)      \n",
    "    \n",
    "    return cost"
   ]
  },
  {
   "cell_type": "markdown",
   "metadata": {},
   "source": [
    "# Backpropagation"
   ]
  },
  {
   "cell_type": "markdown",
   "metadata": {},
   "source": [
    "Now that we have calculated the Cost function , using Cross Entropy Losses. We proceed with the Backpropagation of the Layers , with the updation of the params.\n",
    "\n",
    "Similiar to Forward Propagation we start of by defining `backward_prop_lin` module which computes the following equations:\n",
    "\n",
    "Assuming that we have already calculated $dZ$. The outputs $(dW^{[l]}, db^{[l]}, dA^{[l]})$ are computed using the input $dZ^{[l]}$.\n",
    "\n",
    "$$ dW^{[l]} = \\frac{\\partial \\mathcal{L} }{\\partial W^{[l]}} = \\frac{1}{m} dZ^{[l]} A^{[l-1] T} $$\n",
    "$$ db^{[l]} = \\frac{\\partial \\mathcal{L} }{\\partial b^{[l]}} = \\frac{1}{m} \\sum_{i = 1}^{m} dZ^{[l](i)}$$\n",
    "$$ dA^{[l-1]} = \\frac{\\partial \\mathcal{L} }{\\partial A^{[l-1]}} = W^{[l] T} dZ^{[l]} $$\n",
    "\n",
    "Next we code `derivative_sigmoid` function which performs the \n",
    "```python\n",
    "dZ = derivative_sigmoid(dA, activation_temp)\n",
    "```\n",
    "And also `derivative_relu` function which performs\n",
    "```python\n",
    "dZ = derivative_relu(dA, activation_temp)\n",
    "```\n",
    "If $f(.)$ is the activation function, \n",
    "`derivative_sigmoid` and `derivative_relu` compute $$dZ^{[l]} = dA^{[l]} * f'(Z^{[l]}) \\tag{11}$$.  "
   ]
  },
  {
   "cell_type": "code",
   "execution_count": 9,
   "metadata": {},
   "outputs": [],
   "source": [
    "def backward_prop_lin(dZ,temp_backprop):\n",
    "    #The values of the Previous Activators , Weights and Bias are recovered fromtemp_backprop\n",
    "    A_prev, W, b =temp_backprop\n",
    "    m = A_prev.shape[1]\n",
    "\n",
    "    #The three outputs are calculated using the above formulas\n",
    "    dW = (1/m)*np.dot(dZ,A_prev.T)\n",
    "    db = (1/m)*np.sum(dZ, axis=1, keepdims = True)\n",
    "    dA_prev = np.dot(W.T,dZ)\n",
    "\n",
    "    return dA_prev, dW, db"
   ]
  },
  {
   "cell_type": "code",
   "execution_count": 10,
   "metadata": {},
   "outputs": [],
   "source": [
    "def derivative_relu(dA,temp_backprop):\n",
    "    #Z recovered fromtemp_backprop\n",
    "    Z =temp_backprop\n",
    "    dZ = np.array(dA, copy=True) \n",
    "    #DZ for ReLU is straight forward , giving zero for Z<=0 and dA for Z>=0\n",
    "    dZ[Z <= 0] = 0\n",
    "    \n",
    "    return dZ"
   ]
  },
  {
   "cell_type": "code",
   "execution_count": 11,
   "metadata": {},
   "outputs": [],
   "source": [
    "def derivative_sigmoid(dA,temp_backprop):\n",
    "    #Z recovered fromtemp_backprop\n",
    "    Z =temp_backprop\n",
    "    #DZ for Sigmoid \n",
    "    s = 1/(1+np.exp(-Z))\n",
    "    dZ = dA * s * (1-s)\n",
    "    \n",
    "    return dZ"
   ]
  },
  {
   "cell_type": "markdown",
   "metadata": {},
   "source": [
    "Similiar to the Linear Forward Model we now code up the two helper functions `backward_prop_activation` and `backward_prop_full`.\n",
    "\n",
    "- `backward_prop_activation` takes in input change in activations of the previous layer,temp_backpropand activation  and applies the requisite activation_backward function by first computing dZ followed by backward_prop_lin function\n",
    "\n",
    "- `backward_prop_full` this is the main function , this function sums up the entire backward pass for a training example in the dataset taking in X and params for the entire network"
   ]
  },
  {
   "cell_type": "code",
   "execution_count": 12,
   "metadata": {},
   "outputs": [],
   "source": [
    "def backward_prop_activation(dA,temp_backprop, activation):\n",
    "    #Retrieving the linear_temp and activation_temp from thetemp_backprop\n",
    "    linear_temp, activation_temp =temp_backprop\n",
    "    #Depending upon the activation function speified in the activation we perform a backward pass on the data\n",
    "    if activation == \"relu\":\n",
    "        #if the activator used was relu we first compute Dz from derivative_relu pass and then use backward_prop_lin on the Dz Parameter thus obtained\n",
    "        dZ = derivative_relu(dA, activation_temp)\n",
    "        dA_prev, dW, db = backward_prop_lin(dZ, linear_temp)\n",
    "    \n",
    "    elif activation == \"sigmoid\":\n",
    "        #if the activator used was sigmoid we first compute Dz from derivative_sigmoid pass and then use backward_prop_lin on the Dz Parameter thus obtained\n",
    "        dZ = derivative_sigmoid(dA, activation_temp)\n",
    "        dA_prev, dW, db = backward_prop_lin(dZ, linear_temp)\n",
    " \n",
    "    return dA_prev, dW, db"
   ]
  },
  {
   "cell_type": "code",
   "execution_count": 13,
   "metadata": {},
   "outputs": [],
   "source": [
    "def backward_prop_full(AL, Y, list_temp):\n",
    "    \"\"\"\n",
    "    The final function that sums up the enter backpropagation model\n",
    "    1. gradients = a dictionary with the gradients which will be used for parameter updation\n",
    "    2. L = no of layers in the network\n",
    "    \"\"\"\n",
    "    gradients = {}\n",
    "    L = len(list_temp) \n",
    "    m = AL.shape[1]\n",
    "    Y = Y.reshape(AL.shape) \n",
    "    #To compute DL/DA for rhe first Back Propagation\n",
    "    dAL = - (np.divide(Y, AL) - np.divide(1 - Y, 1 - AL))\n",
    "\n",
    "    current_temp = list_temp[L-1]\n",
    "    #Updation of the gradient of the final layer which happens to have a sigmoid activator\n",
    "    gradients[\"dA\" + str(L-1)], gradients[\"dW\" + str(L)], gradients[\"db\" + str(L)] = backward_prop_activation(dAL, current_temp, \"relu\")\n",
    "\n",
    "    \n",
    "    for l in reversed(range(L-1)):\n",
    "        #Next we iterate through individual Layers of the network calculating the gradients at corresponding layers which are sigmoid activated \n",
    "        current_temp = list_temp[l]\n",
    "        dA_prev_temp, dW_temp, db_temp = backward_prop_activation(gradients[\"dA\" + str(l+1)], current_temp, \"sigmoid\")\n",
    "        gradients[\"dA\" + str(l)] = dA_prev_temp\n",
    "        gradients[\"dW\" + str(l + 1)] = dW_temp\n",
    "        gradients[\"db\" + str(l + 1)] = db_temp\n",
    "\n",
    "    #Here in this step the gradient is finally returned for parameter updation\n",
    "    return gradients"
   ]
  },
  {
   "cell_type": "markdown",
   "metadata": {},
   "source": [
    "# Parameter Updation\n",
    "With one pass of Forward and Backward Completed , we conclude the pass by Updating the params of each individual layer"
   ]
  },
  {
   "cell_type": "code",
   "execution_count": 14,
   "metadata": {},
   "outputs": [],
   "source": [
    "def params_update(params, gradients, learning_rate):\n",
    "    L = len(params) // 2\n",
    "    # number of layers in the neural network\n",
    "    # Iterating through Individual params and updating them with the corresponding gradients multiplied by learning_rate\n",
    "    for l in range(L):\n",
    "        params[\"W\" + str(l + 1)] = params[\"W\" + str(l + 1)] - learning_rate * gradients[\"dW\" + str(l + 1)]\n",
    "        params[\"b\" + str(l + 1)] = params[\"b\" + str(l + 1)] - learning_rate * gradients[\"db\" + str(l + 1)]\n",
    "    \n",
    "    return params"
   ]
  },
  {
   "cell_type": "markdown",
   "metadata": {},
   "source": [
    "## Final Batch Model \n",
    "Having coded all the precomponents of the Network, finally we assemble all of them to form a full fledged network. The function `neural_network_batch` provides the implementation for the batch modeling of the Network. In this, the batch_size is set by the user. The errors are updated only after the processing of a batch"
   ]
  },
  {
   "cell_type": "code",
   "execution_count": 15,
   "metadata": {},
   "outputs": [],
   "source": [
    "def neural_network_batch(X, Y, layers_dims, learning_rate = 0.1, num_iterations = 3000, print_cost=False,batch_size=32):\n",
    "    \n",
    "\n",
    "    np.random.seed(1)\n",
    "    costs, accu = [],[]                         \n",
    "    #keep track of cost\n",
    "    #batch_size=8\n",
    "    num_batches = X.shape[1]//batch_size\n",
    "    print(\"number of batches: \" + str(num_batches))\n",
    "    #Initialize the params for the network using the parameter_initialization helper function\n",
    "    params = parameter_initialization(layers_dims)\n",
    " \n",
    "    #Iterating throught the whole set num_iterations times, correcting gradients at each level and also collecting the cost to review them later \n",
    "    for i in range(0, num_iterations):\n",
    "        #For every batch of training example we run the algorithm\n",
    "        for k in range(0,num_batches):\n",
    "            #X_lite and Y_lite contains batch_size entries of X and Y respectively  for training purpose\n",
    "            X_lite = X[:,k*batch_size:(k+1)*batch_size]\n",
    "            Y_lite = Y[:,k*batch_size:(k+1)*batch_size]            \n",
    "             \n",
    "            #One pass of Forward Propagation\n",
    "            AL,list_temp= forward_prop_full(X_lite, params)\n",
    "            \n",
    "            if(k==0):\n",
    "                AL_lite = AL\n",
    "            else:\n",
    "                AL_lite = np.concatenate((AL_lite,AL),axis=1)\n",
    "          \n",
    "            #Computing the Cost function\n",
    "            cost = cost_function(AL, Y_lite)\n",
    "           \n",
    "        \n",
    "            #One pass of Backward Propagation\n",
    "            gradients = backward_prop_full(AL, Y_lite, list_temp)\n",
    "            \n",
    "            #Updation of params\n",
    "            params = params_update(params, gradients, learning_rate)\n",
    "        \n",
    "            \n",
    "\n",
    "        temp_array = AL_lite\n",
    "        p = np.zeros((1,temp_array.shape[1]))\n",
    "        for j in range(0, temp_array.shape[1]):\n",
    "            if temp_array[0,j] > 0.5:\n",
    "                p[0,j] = 1\n",
    "            else:\n",
    "                p[0,j] = 0\n",
    "        \n",
    "        Y_acc = Y[:,0:num_batches*batch_size]\n",
    "        \n",
    "        # Print the cost every 100 training example\n",
    "        if print_cost and i % 10 == 0:\n",
    "            print (\"Cost after iteration %i: %f\" %(i, cost))\n",
    "            acc1 = np.sum((p == Y_acc)/AL_lite.shape[1])\n",
    "            print (\"Accuracy after iteration %i: %f\" %(i, acc1))\n",
    "        if print_cost and i % 10 == 0:\n",
    "            costs.append(cost)\n",
    "            accu.append(acc1)\n",
    "    \n",
    "    print (\"Training Accuracy %f\" %( acc1))\n",
    "    # plot the cost\n",
    "    #plt.subplot(1, 2, 1)     \n",
    "    plt.plot(np.squeeze(costs),label='cost')\n",
    "    plt.plot(np.squeeze(accu),label='accuracy')\n",
    "    plt.ylabel('Metrics')\n",
    "    plt.xlabel('iterations (per tens)')\n",
    "    plt.title(\"Learning rate =\" + str(learning_rate))\n",
    "    plt.legend()\n",
    "    plt.show()\n",
    "    \n",
    "    return params"
   ]
  },
  {
   "cell_type": "markdown",
   "metadata": {},
   "source": [
    "# Prediction\n",
    "With the trained model, we are in a position to start making predictions about the independent, unseen training data to assess the credibility of the model. The metric used for the same, is accuracy"
   ]
  },
  {
   "cell_type": "code",
   "execution_count": 16,
   "metadata": {},
   "outputs": [],
   "source": [
    "def predict(X, y, params):\n",
    "    \"\"\"\n",
    "    To Predict the label , given the dataset X\n",
    "    \"\"\"\n",
    "    \n",
    "    m = X.shape[1] \n",
    "    n = len(params) // 2 # number of layers in the neural network\n",
    "    p = np.zeros((1,m))\n",
    "    \n",
    "    # With the model trained , we do one forward pass of the model and check the probability of the label\n",
    "    temp_array,list_temp= forward_prop_full(X, params)\n",
    "\n",
    "    \n",
    "    #If the probability of any label is greater than 0.5 our model predicts it as 1 or 0\n",
    "    for i in range(0, temp_array.shape[1]):\n",
    "        if temp_array[0,i] > 0.5:\n",
    "            p[0,i] = 1\n",
    "        else:\n",
    "            p[0,i] = 0\n",
    "    #As we already know the correct value of the output we can also calculate the accuracy of the model\n",
    "    print(\"Test Accuracy: \"  + str(np.sum((p == y)/m)))\n",
    "        \n",
    "    return p"
   ]
  },
  {
   "cell_type": "markdown",
   "metadata": {},
   "source": [
    "# Loading the Dataset"
   ]
  },
  {
   "cell_type": "code",
   "execution_count": 17,
   "metadata": {},
   "outputs": [],
   "source": [
    "data1 = pd.read_csv(\"breast_cancer_preprocessed.csv\")"
   ]
  },
  {
   "cell_type": "code",
   "execution_count": 18,
   "metadata": {},
   "outputs": [],
   "source": [
    "y1 = data1['Class']\n",
    "X1 = data1.drop(['Class'], 1)\n",
    "\n",
    "X1_train, X1_test, y1_train, y1_test = train_test_split(X1, y1, test_size = 0.2, random_state = 42)"
   ]
  },
  {
   "cell_type": "code",
   "execution_count": 19,
   "metadata": {},
   "outputs": [
    {
     "data": {
      "text/plain": [
       "(9, 546)"
      ]
     },
     "execution_count": 19,
     "metadata": {},
     "output_type": "execute_result"
    }
   ],
   "source": [
    "X1_train = X1_train.T\n",
    "X1_train.shape"
   ]
  },
  {
   "cell_type": "code",
   "execution_count": 20,
   "metadata": {},
   "outputs": [],
   "source": [
    "layers_dims = [X1_train.shape[0], 45, 45, 45, 45, 1]"
   ]
  },
  {
   "cell_type": "code",
   "execution_count": 21,
   "metadata": {},
   "outputs": [
    {
     "name": "stdout",
     "output_type": "stream",
     "text": [
      "(1, 546)\n",
      "number of batches: 546\n",
      "Cost after iteration 0: 0.785094\n",
      "Accuracy after iteration 0: 0.668498\n",
      "Cost after iteration 10: 0.786758\n",
      "Accuracy after iteration 10: 0.668498\n",
      "Cost after iteration 20: 0.788445\n",
      "Accuracy after iteration 20: 0.668498\n",
      "Cost after iteration 30: 0.790156\n",
      "Accuracy after iteration 30: 0.668498\n",
      "Cost after iteration 40: 0.791888\n",
      "Accuracy after iteration 40: 0.668498\n",
      "Cost after iteration 50: 0.793642\n",
      "Accuracy after iteration 50: 0.668498\n",
      "Cost after iteration 60: 0.795417\n",
      "Accuracy after iteration 60: 0.668498\n",
      "Cost after iteration 70: 0.797210\n",
      "Accuracy after iteration 70: 0.668498\n",
      "Cost after iteration 80: 0.799023\n",
      "Accuracy after iteration 80: 0.668498\n",
      "Cost after iteration 90: 0.800852\n",
      "Accuracy after iteration 90: 0.668498\n",
      "Training Accuracy 0.668498\n"
     ]
    },
    {
     "data": {
      "image/png": "[encoded data removed]",
      "text/plain": [
       "<Figure size 432x288 with 1 Axes>"
      ]
     },
     "metadata": {
      "needs_background": "light"
     },
     "output_type": "display_data"
    }
   ],
   "source": [
    "X1_train1 = np.asarray(X1_train)\n",
    "y1_train1 = np.asarray(y1_train)\n",
    "y1_train1 = y1_train1.reshape(1, y1_train1.shape[0])\n",
    "print(y1_train1.shape)\n",
    "params = neural_network_batch(X1_train1, y1_train1, layers_dims, learning_rate = 0.001, num_iterations = 100, print_cost = True, batch_size = 1)"
   ]
  },
  {
   "cell_type": "code",
   "execution_count": 22,
   "metadata": {},
   "outputs": [],
   "source": [
    "X1_test = X1_test.T\n",
    "X1_test = np.asarray(X1_test)"
   ]
  },
  {
   "cell_type": "code",
   "execution_count": 23,
   "metadata": {},
   "outputs": [],
   "source": [
    "y1_test = np.asarray(y1_test)\n",
    "y1_test = y1_test.reshape(1, y1_test.shape[0])"
   ]
  },
  {
   "cell_type": "markdown",
   "metadata": {},
   "source": [
    "# Predicting the results"
   ]
  },
  {
   "cell_type": "code",
   "execution_count": 24,
   "metadata": {},
   "outputs": [
    {
     "name": "stdout",
     "output_type": "stream",
     "text": [
      "Test Accuracy: 0.5766423357664232\n"
     ]
    }
   ],
   "source": [
    "pred_test1 = predict(X1_test, y1_test, params)"
   ]
  },
  {
   "cell_type": "code",
   "execution_count": null,
   "metadata": {},
   "outputs": [],
   "source": []
  }
 ],
 "metadata": {
  "coursera": {
   "course_slug": "neural-networks-deep-learning",
   "graded_item_id": "c4HO0",
   "launcher_item_id": "lSYZM"
  },
  "kernelspec": {
   "display_name": "Python 3",
   "language": "python",
   "name": "python3"
  },
  "language_info": {
   "codemirror_mode": {
    "name": "ipython",
    "version": 3
   },
   "file_extension": ".py",
   "mimetype": "text/x-python",
   "name": "python",
   "nbconvert_exporter": "python",
   "pygments_lexer": "ipython3",
   "version": "3.6.7"
  }
 },
 "nbformat": 4,
 "nbformat_minor": 1
}
